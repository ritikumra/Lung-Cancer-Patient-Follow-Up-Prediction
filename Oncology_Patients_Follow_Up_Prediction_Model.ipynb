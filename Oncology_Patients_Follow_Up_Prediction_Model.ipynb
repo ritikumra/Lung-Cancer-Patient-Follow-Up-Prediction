{
  "nbformat": 4,
  "nbformat_minor": 0,
  "metadata": {
    "colab": {
      "provenance": [],
      "include_colab_link": true
    },
    "kernelspec": {
      "name": "python3",
      "display_name": "Python 3"
    },
    "language_info": {
      "name": "python"
    }
  },
  "cells": [
    {
      "cell_type": "markdown",
      "metadata": {
        "id": "view-in-github",
        "colab_type": "text"
      },
      "source": [
        "<a href=\"https://colab.research.google.com/github/ritikumra/Lung-Cancer-Patient-Follow-Up-Prediction/blob/main/Oncology_Patients_Follow_Up_Prediction_Model.ipynb\" target=\"_parent\"><img src=\"https://colab.research.google.com/assets/colab-badge.svg\" alt=\"Open In Colab\"/></a>"
      ]
    },
    {
      "cell_type": "code",
      "source": [
        "import pandas as pd\n",
        "import numpy as np\n",
        "import pickle\n",
        "from sklearn.preprocessing import LabelEncoder, MinMaxScaler, PowerTransformer\n",
        "from sklearn.model_selection import train_test_split\n",
        "import tensorflow as tf\n",
        "from tensorflow.keras.models import Sequential\n",
        "from tensorflow.keras.layers import LSTM, Dense, Masking"
      ],
      "metadata": {
        "id": "blTOLRcF6Von"
      },
      "execution_count": 4,
      "outputs": []
    },
    {
      "cell_type": "code",
      "source": [
        "df = pd.read_csv(\"/content/LungNodule_Corrected_Comorbidities.csv\")\n",
        "\n",
        "# Encode categorical columns\n",
        "label_encoders = {}\n",
        "categorical_cols = ['AgeGroup', 'FamilyHistoryCancer',\n",
        "                    'SelfHistoryCancer']\n",
        "\n",
        "for col in categorical_cols:\n",
        "    le = LabelEncoder()\n",
        "    df[col] = le.fit_transform(df[col])\n",
        "    label_encoders[col] = le\n",
        "\n",
        "# Normalize numerical features\n",
        "scaler = MinMaxScaler()\n",
        "df[['SmokingPackYears', 'NoduleSize_mm']] = scaler.fit_transform(df[['SmokingPackYears', 'NoduleSize_mm']])\n",
        "\n",
        "# Save the scaler\n",
        "import joblib\n",
        "joblib.dump(scaler, 'scaler.pkl')\n",
        "\n",
        "\n",
        "# Sort for sequence alignment\n",
        "df = df.sort_values(by=['PatientID', 'FollowUpNumber'])\n",
        "\n",
        "df['SmokingPackYears']\n",
        "df['NoduleSize_mm']"
      ],
      "metadata": {
        "id": "pCGMWYML6pqm",
        "colab": {
          "base_uri": "https://localhost:8080/",
          "height": 458
        },
        "outputId": "62c0bef0-35d3-42b0-a13b-cdfe38584a4b"
      },
      "execution_count": 5,
      "outputs": [
        {
          "output_type": "execute_result",
          "data": {
            "text/plain": [
              "0       0.426523\n",
              "1       0.426523\n",
              "2       0.426523\n",
              "3       0.473118\n",
              "4       0.473118\n",
              "          ...   \n",
              "4995    0.318996\n",
              "4996    0.390681\n",
              "4997    0.462366\n",
              "4998    0.440860\n",
              "4999    0.179211\n",
              "Name: NoduleSize_mm, Length: 5000, dtype: float64"
            ],
            "text/html": [
              "<div>\n",
              "<style scoped>\n",
              "    .dataframe tbody tr th:only-of-type {\n",
              "        vertical-align: middle;\n",
              "    }\n",
              "\n",
              "    .dataframe tbody tr th {\n",
              "        vertical-align: top;\n",
              "    }\n",
              "\n",
              "    .dataframe thead th {\n",
              "        text-align: right;\n",
              "    }\n",
              "</style>\n",
              "<table border=\"1\" class=\"dataframe\">\n",
              "  <thead>\n",
              "    <tr style=\"text-align: right;\">\n",
              "      <th></th>\n",
              "      <th>NoduleSize_mm</th>\n",
              "    </tr>\n",
              "  </thead>\n",
              "  <tbody>\n",
              "    <tr>\n",
              "      <th>0</th>\n",
              "      <td>0.426523</td>\n",
              "    </tr>\n",
              "    <tr>\n",
              "      <th>1</th>\n",
              "      <td>0.426523</td>\n",
              "    </tr>\n",
              "    <tr>\n",
              "      <th>2</th>\n",
              "      <td>0.426523</td>\n",
              "    </tr>\n",
              "    <tr>\n",
              "      <th>3</th>\n",
              "      <td>0.473118</td>\n",
              "    </tr>\n",
              "    <tr>\n",
              "      <th>4</th>\n",
              "      <td>0.473118</td>\n",
              "    </tr>\n",
              "    <tr>\n",
              "      <th>...</th>\n",
              "      <td>...</td>\n",
              "    </tr>\n",
              "    <tr>\n",
              "      <th>4995</th>\n",
              "      <td>0.318996</td>\n",
              "    </tr>\n",
              "    <tr>\n",
              "      <th>4996</th>\n",
              "      <td>0.390681</td>\n",
              "    </tr>\n",
              "    <tr>\n",
              "      <th>4997</th>\n",
              "      <td>0.462366</td>\n",
              "    </tr>\n",
              "    <tr>\n",
              "      <th>4998</th>\n",
              "      <td>0.440860</td>\n",
              "    </tr>\n",
              "    <tr>\n",
              "      <th>4999</th>\n",
              "      <td>0.179211</td>\n",
              "    </tr>\n",
              "  </tbody>\n",
              "</table>\n",
              "<p>5000 rows × 1 columns</p>\n",
              "</div><br><label><b>dtype:</b> float64</label>"
            ]
          },
          "metadata": {},
          "execution_count": 5
        }
      ]
    },
    {
      "cell_type": "code",
      "source": [
        "\n",
        "\n",
        "# Encode all categorical columns\n",
        "df_encoded = df.copy()\n",
        "for col in ['AgeGroup', 'FamilyHistoryCancer', 'SelfHistoryCancer']:\n",
        "    df_encoded[col] = LabelEncoder().fit_transform(df_encoded[col])\n",
        "\n",
        "# Drop non-feature columns for X\n",
        "features_df = df_encoded.drop(['PatientID', 'FollowUpNumber', 'FollowUpInterval'], axis=1)\n",
        "\n",
        "for index, label in enumerate(label_encoders['AgeGroup'].classes_):\n",
        "    print(f\"{index}: {label}\")\n",
        "\n",
        "\n"
      ],
      "metadata": {
        "id": "zShcsuXZXd1f",
        "colab": {
          "base_uri": "https://localhost:8080/"
        },
        "outputId": "2c184141-1ffd-4739-f225-60dbc523a4e3"
      },
      "execution_count": 6,
      "outputs": [
        {
          "output_type": "stream",
          "name": "stdout",
          "text": [
            "0: 20-30\n",
            "1: 30-40\n",
            "2: 40-50\n",
            "3: 50-60\n",
            "4: 60-70\n",
            "5: 70-80\n",
            "6: 80-90\n"
          ]
        }
      ]
    },
    {
      "cell_type": "code",
      "source": [],
      "metadata": {
        "id": "ZliVbkP30CO0"
      },
      "execution_count": 6,
      "outputs": []
    },
    {
      "cell_type": "code",
      "source": [
        "df"
      ],
      "metadata": {
        "colab": {
          "base_uri": "https://localhost:8080/",
          "height": 478
        },
        "id": "BExyK8ZFyHSF",
        "outputId": "bedcbb79-44ac-45ec-ca73-7f4adbb3fa32"
      },
      "execution_count": 7,
      "outputs": [
        {
          "output_type": "execute_result",
          "data": {
            "text/plain": [
              "     PatientID  AgeGroup  Comorbidities  FamilyHistoryCancer  \\\n",
              "0        P0001         4              1                    0   \n",
              "1        P0001         4              1                    0   \n",
              "2        P0001         4              1                    0   \n",
              "3        P0001         4              1                    0   \n",
              "4        P0001         4              1                    0   \n",
              "...        ...       ...            ...                  ...   \n",
              "4995     P1000         3              0                    1   \n",
              "4996     P1000         3              0                    1   \n",
              "4997     P1000         3              0                    1   \n",
              "4998     P1000         3              0                    1   \n",
              "4999     P1000         3              0                    1   \n",
              "\n",
              "      SelfHistoryCancer  SmokingPackYears  FollowUpNumber  NoduleType  \\\n",
              "0                     0          0.190141               1           2   \n",
              "1                     0          0.190141               2           2   \n",
              "2                     0          0.190141               3           2   \n",
              "3                     0          0.190141               4           2   \n",
              "4                     0          0.190141               5           2   \n",
              "...                 ...               ...             ...         ...   \n",
              "4995                  0          0.253521               1           1   \n",
              "4996                  0          0.253521               2           1   \n",
              "4997                  0          0.253521               3           1   \n",
              "4998                  0          0.253521               4           1   \n",
              "4999                  0          0.253521               5           1   \n",
              "\n",
              "      NoduleSize_mm  LungRadScore      FollowUpInterval  \n",
              "0          0.426523             5  Immediate evaluation  \n",
              "1          0.426523             2             12 months  \n",
              "2          0.426523             2             12 months  \n",
              "3          0.473118             5  Immediate evaluation  \n",
              "4          0.473118             2             12 months  \n",
              "...             ...           ...                   ...  \n",
              "4995       0.318996             2             12 months  \n",
              "4996       0.390681             2             12 months  \n",
              "4997       0.462366             2             12 months  \n",
              "4998       0.440860             2             12 months  \n",
              "4999       0.179211             2             12 months  \n",
              "\n",
              "[5000 rows x 11 columns]"
            ],
            "text/html": [
              "\n",
              "  <div id=\"df-2f073e31-279e-4742-bcae-f5543961c668\" class=\"colab-df-container\">\n",
              "    <div>\n",
              "<style scoped>\n",
              "    .dataframe tbody tr th:only-of-type {\n",
              "        vertical-align: middle;\n",
              "    }\n",
              "\n",
              "    .dataframe tbody tr th {\n",
              "        vertical-align: top;\n",
              "    }\n",
              "\n",
              "    .dataframe thead th {\n",
              "        text-align: right;\n",
              "    }\n",
              "</style>\n",
              "<table border=\"1\" class=\"dataframe\">\n",
              "  <thead>\n",
              "    <tr style=\"text-align: right;\">\n",
              "      <th></th>\n",
              "      <th>PatientID</th>\n",
              "      <th>AgeGroup</th>\n",
              "      <th>Comorbidities</th>\n",
              "      <th>FamilyHistoryCancer</th>\n",
              "      <th>SelfHistoryCancer</th>\n",
              "      <th>SmokingPackYears</th>\n",
              "      <th>FollowUpNumber</th>\n",
              "      <th>NoduleType</th>\n",
              "      <th>NoduleSize_mm</th>\n",
              "      <th>LungRadScore</th>\n",
              "      <th>FollowUpInterval</th>\n",
              "    </tr>\n",
              "  </thead>\n",
              "  <tbody>\n",
              "    <tr>\n",
              "      <th>0</th>\n",
              "      <td>P0001</td>\n",
              "      <td>4</td>\n",
              "      <td>1</td>\n",
              "      <td>0</td>\n",
              "      <td>0</td>\n",
              "      <td>0.190141</td>\n",
              "      <td>1</td>\n",
              "      <td>2</td>\n",
              "      <td>0.426523</td>\n",
              "      <td>5</td>\n",
              "      <td>Immediate evaluation</td>\n",
              "    </tr>\n",
              "    <tr>\n",
              "      <th>1</th>\n",
              "      <td>P0001</td>\n",
              "      <td>4</td>\n",
              "      <td>1</td>\n",
              "      <td>0</td>\n",
              "      <td>0</td>\n",
              "      <td>0.190141</td>\n",
              "      <td>2</td>\n",
              "      <td>2</td>\n",
              "      <td>0.426523</td>\n",
              "      <td>2</td>\n",
              "      <td>12 months</td>\n",
              "    </tr>\n",
              "    <tr>\n",
              "      <th>2</th>\n",
              "      <td>P0001</td>\n",
              "      <td>4</td>\n",
              "      <td>1</td>\n",
              "      <td>0</td>\n",
              "      <td>0</td>\n",
              "      <td>0.190141</td>\n",
              "      <td>3</td>\n",
              "      <td>2</td>\n",
              "      <td>0.426523</td>\n",
              "      <td>2</td>\n",
              "      <td>12 months</td>\n",
              "    </tr>\n",
              "    <tr>\n",
              "      <th>3</th>\n",
              "      <td>P0001</td>\n",
              "      <td>4</td>\n",
              "      <td>1</td>\n",
              "      <td>0</td>\n",
              "      <td>0</td>\n",
              "      <td>0.190141</td>\n",
              "      <td>4</td>\n",
              "      <td>2</td>\n",
              "      <td>0.473118</td>\n",
              "      <td>5</td>\n",
              "      <td>Immediate evaluation</td>\n",
              "    </tr>\n",
              "    <tr>\n",
              "      <th>4</th>\n",
              "      <td>P0001</td>\n",
              "      <td>4</td>\n",
              "      <td>1</td>\n",
              "      <td>0</td>\n",
              "      <td>0</td>\n",
              "      <td>0.190141</td>\n",
              "      <td>5</td>\n",
              "      <td>2</td>\n",
              "      <td>0.473118</td>\n",
              "      <td>2</td>\n",
              "      <td>12 months</td>\n",
              "    </tr>\n",
              "    <tr>\n",
              "      <th>...</th>\n",
              "      <td>...</td>\n",
              "      <td>...</td>\n",
              "      <td>...</td>\n",
              "      <td>...</td>\n",
              "      <td>...</td>\n",
              "      <td>...</td>\n",
              "      <td>...</td>\n",
              "      <td>...</td>\n",
              "      <td>...</td>\n",
              "      <td>...</td>\n",
              "      <td>...</td>\n",
              "    </tr>\n",
              "    <tr>\n",
              "      <th>4995</th>\n",
              "      <td>P1000</td>\n",
              "      <td>3</td>\n",
              "      <td>0</td>\n",
              "      <td>1</td>\n",
              "      <td>0</td>\n",
              "      <td>0.253521</td>\n",
              "      <td>1</td>\n",
              "      <td>1</td>\n",
              "      <td>0.318996</td>\n",
              "      <td>2</td>\n",
              "      <td>12 months</td>\n",
              "    </tr>\n",
              "    <tr>\n",
              "      <th>4996</th>\n",
              "      <td>P1000</td>\n",
              "      <td>3</td>\n",
              "      <td>0</td>\n",
              "      <td>1</td>\n",
              "      <td>0</td>\n",
              "      <td>0.253521</td>\n",
              "      <td>2</td>\n",
              "      <td>1</td>\n",
              "      <td>0.390681</td>\n",
              "      <td>2</td>\n",
              "      <td>12 months</td>\n",
              "    </tr>\n",
              "    <tr>\n",
              "      <th>4997</th>\n",
              "      <td>P1000</td>\n",
              "      <td>3</td>\n",
              "      <td>0</td>\n",
              "      <td>1</td>\n",
              "      <td>0</td>\n",
              "      <td>0.253521</td>\n",
              "      <td>3</td>\n",
              "      <td>1</td>\n",
              "      <td>0.462366</td>\n",
              "      <td>2</td>\n",
              "      <td>12 months</td>\n",
              "    </tr>\n",
              "    <tr>\n",
              "      <th>4998</th>\n",
              "      <td>P1000</td>\n",
              "      <td>3</td>\n",
              "      <td>0</td>\n",
              "      <td>1</td>\n",
              "      <td>0</td>\n",
              "      <td>0.253521</td>\n",
              "      <td>4</td>\n",
              "      <td>1</td>\n",
              "      <td>0.440860</td>\n",
              "      <td>2</td>\n",
              "      <td>12 months</td>\n",
              "    </tr>\n",
              "    <tr>\n",
              "      <th>4999</th>\n",
              "      <td>P1000</td>\n",
              "      <td>3</td>\n",
              "      <td>0</td>\n",
              "      <td>1</td>\n",
              "      <td>0</td>\n",
              "      <td>0.253521</td>\n",
              "      <td>5</td>\n",
              "      <td>1</td>\n",
              "      <td>0.179211</td>\n",
              "      <td>2</td>\n",
              "      <td>12 months</td>\n",
              "    </tr>\n",
              "  </tbody>\n",
              "</table>\n",
              "<p>5000 rows × 11 columns</p>\n",
              "</div>\n",
              "    <div class=\"colab-df-buttons\">\n",
              "\n",
              "  <div class=\"colab-df-container\">\n",
              "    <button class=\"colab-df-convert\" onclick=\"convertToInteractive('df-2f073e31-279e-4742-bcae-f5543961c668')\"\n",
              "            title=\"Convert this dataframe to an interactive table.\"\n",
              "            style=\"display:none;\">\n",
              "\n",
              "  <svg xmlns=\"http://www.w3.org/2000/svg\" height=\"24px\" viewBox=\"0 -960 960 960\">\n",
              "    <path d=\"M120-120v-720h720v720H120Zm60-500h600v-160H180v160Zm220 220h160v-160H400v160Zm0 220h160v-160H400v160ZM180-400h160v-160H180v160Zm440 0h160v-160H620v160ZM180-180h160v-160H180v160Zm440 0h160v-160H620v160Z\"/>\n",
              "  </svg>\n",
              "    </button>\n",
              "\n",
              "  <style>\n",
              "    .colab-df-container {\n",
              "      display:flex;\n",
              "      gap: 12px;\n",
              "    }\n",
              "\n",
              "    .colab-df-convert {\n",
              "      background-color: #E8F0FE;\n",
              "      border: none;\n",
              "      border-radius: 50%;\n",
              "      cursor: pointer;\n",
              "      display: none;\n",
              "      fill: #1967D2;\n",
              "      height: 32px;\n",
              "      padding: 0 0 0 0;\n",
              "      width: 32px;\n",
              "    }\n",
              "\n",
              "    .colab-df-convert:hover {\n",
              "      background-color: #E2EBFA;\n",
              "      box-shadow: 0px 1px 2px rgba(60, 64, 67, 0.3), 0px 1px 3px 1px rgba(60, 64, 67, 0.15);\n",
              "      fill: #174EA6;\n",
              "    }\n",
              "\n",
              "    .colab-df-buttons div {\n",
              "      margin-bottom: 4px;\n",
              "    }\n",
              "\n",
              "    [theme=dark] .colab-df-convert {\n",
              "      background-color: #3B4455;\n",
              "      fill: #D2E3FC;\n",
              "    }\n",
              "\n",
              "    [theme=dark] .colab-df-convert:hover {\n",
              "      background-color: #434B5C;\n",
              "      box-shadow: 0px 1px 3px 1px rgba(0, 0, 0, 0.15);\n",
              "      filter: drop-shadow(0px 1px 2px rgba(0, 0, 0, 0.3));\n",
              "      fill: #FFFFFF;\n",
              "    }\n",
              "  </style>\n",
              "\n",
              "    <script>\n",
              "      const buttonEl =\n",
              "        document.querySelector('#df-2f073e31-279e-4742-bcae-f5543961c668 button.colab-df-convert');\n",
              "      buttonEl.style.display =\n",
              "        google.colab.kernel.accessAllowed ? 'block' : 'none';\n",
              "\n",
              "      async function convertToInteractive(key) {\n",
              "        const element = document.querySelector('#df-2f073e31-279e-4742-bcae-f5543961c668');\n",
              "        const dataTable =\n",
              "          await google.colab.kernel.invokeFunction('convertToInteractive',\n",
              "                                                    [key], {});\n",
              "        if (!dataTable) return;\n",
              "\n",
              "        const docLinkHtml = 'Like what you see? Visit the ' +\n",
              "          '<a target=\"_blank\" href=https://colab.research.google.com/notebooks/data_table.ipynb>data table notebook</a>'\n",
              "          + ' to learn more about interactive tables.';\n",
              "        element.innerHTML = '';\n",
              "        dataTable['output_type'] = 'display_data';\n",
              "        await google.colab.output.renderOutput(dataTable, element);\n",
              "        const docLink = document.createElement('div');\n",
              "        docLink.innerHTML = docLinkHtml;\n",
              "        element.appendChild(docLink);\n",
              "      }\n",
              "    </script>\n",
              "  </div>\n",
              "\n",
              "\n",
              "    <div id=\"df-462f8daa-13c3-4965-9f81-366e4e1d59ae\">\n",
              "      <button class=\"colab-df-quickchart\" onclick=\"quickchart('df-462f8daa-13c3-4965-9f81-366e4e1d59ae')\"\n",
              "                title=\"Suggest charts\"\n",
              "                style=\"display:none;\">\n",
              "\n",
              "<svg xmlns=\"http://www.w3.org/2000/svg\" height=\"24px\"viewBox=\"0 0 24 24\"\n",
              "     width=\"24px\">\n",
              "    <g>\n",
              "        <path d=\"M19 3H5c-1.1 0-2 .9-2 2v14c0 1.1.9 2 2 2h14c1.1 0 2-.9 2-2V5c0-1.1-.9-2-2-2zM9 17H7v-7h2v7zm4 0h-2V7h2v10zm4 0h-2v-4h2v4z\"/>\n",
              "    </g>\n",
              "</svg>\n",
              "      </button>\n",
              "\n",
              "<style>\n",
              "  .colab-df-quickchart {\n",
              "      --bg-color: #E8F0FE;\n",
              "      --fill-color: #1967D2;\n",
              "      --hover-bg-color: #E2EBFA;\n",
              "      --hover-fill-color: #174EA6;\n",
              "      --disabled-fill-color: #AAA;\n",
              "      --disabled-bg-color: #DDD;\n",
              "  }\n",
              "\n",
              "  [theme=dark] .colab-df-quickchart {\n",
              "      --bg-color: #3B4455;\n",
              "      --fill-color: #D2E3FC;\n",
              "      --hover-bg-color: #434B5C;\n",
              "      --hover-fill-color: #FFFFFF;\n",
              "      --disabled-bg-color: #3B4455;\n",
              "      --disabled-fill-color: #666;\n",
              "  }\n",
              "\n",
              "  .colab-df-quickchart {\n",
              "    background-color: var(--bg-color);\n",
              "    border: none;\n",
              "    border-radius: 50%;\n",
              "    cursor: pointer;\n",
              "    display: none;\n",
              "    fill: var(--fill-color);\n",
              "    height: 32px;\n",
              "    padding: 0;\n",
              "    width: 32px;\n",
              "  }\n",
              "\n",
              "  .colab-df-quickchart:hover {\n",
              "    background-color: var(--hover-bg-color);\n",
              "    box-shadow: 0 1px 2px rgba(60, 64, 67, 0.3), 0 1px 3px 1px rgba(60, 64, 67, 0.15);\n",
              "    fill: var(--button-hover-fill-color);\n",
              "  }\n",
              "\n",
              "  .colab-df-quickchart-complete:disabled,\n",
              "  .colab-df-quickchart-complete:disabled:hover {\n",
              "    background-color: var(--disabled-bg-color);\n",
              "    fill: var(--disabled-fill-color);\n",
              "    box-shadow: none;\n",
              "  }\n",
              "\n",
              "  .colab-df-spinner {\n",
              "    border: 2px solid var(--fill-color);\n",
              "    border-color: transparent;\n",
              "    border-bottom-color: var(--fill-color);\n",
              "    animation:\n",
              "      spin 1s steps(1) infinite;\n",
              "  }\n",
              "\n",
              "  @keyframes spin {\n",
              "    0% {\n",
              "      border-color: transparent;\n",
              "      border-bottom-color: var(--fill-color);\n",
              "      border-left-color: var(--fill-color);\n",
              "    }\n",
              "    20% {\n",
              "      border-color: transparent;\n",
              "      border-left-color: var(--fill-color);\n",
              "      border-top-color: var(--fill-color);\n",
              "    }\n",
              "    30% {\n",
              "      border-color: transparent;\n",
              "      border-left-color: var(--fill-color);\n",
              "      border-top-color: var(--fill-color);\n",
              "      border-right-color: var(--fill-color);\n",
              "    }\n",
              "    40% {\n",
              "      border-color: transparent;\n",
              "      border-right-color: var(--fill-color);\n",
              "      border-top-color: var(--fill-color);\n",
              "    }\n",
              "    60% {\n",
              "      border-color: transparent;\n",
              "      border-right-color: var(--fill-color);\n",
              "    }\n",
              "    80% {\n",
              "      border-color: transparent;\n",
              "      border-right-color: var(--fill-color);\n",
              "      border-bottom-color: var(--fill-color);\n",
              "    }\n",
              "    90% {\n",
              "      border-color: transparent;\n",
              "      border-bottom-color: var(--fill-color);\n",
              "    }\n",
              "  }\n",
              "</style>\n",
              "\n",
              "      <script>\n",
              "        async function quickchart(key) {\n",
              "          const quickchartButtonEl =\n",
              "            document.querySelector('#' + key + ' button');\n",
              "          quickchartButtonEl.disabled = true;  // To prevent multiple clicks.\n",
              "          quickchartButtonEl.classList.add('colab-df-spinner');\n",
              "          try {\n",
              "            const charts = await google.colab.kernel.invokeFunction(\n",
              "                'suggestCharts', [key], {});\n",
              "          } catch (error) {\n",
              "            console.error('Error during call to suggestCharts:', error);\n",
              "          }\n",
              "          quickchartButtonEl.classList.remove('colab-df-spinner');\n",
              "          quickchartButtonEl.classList.add('colab-df-quickchart-complete');\n",
              "        }\n",
              "        (() => {\n",
              "          let quickchartButtonEl =\n",
              "            document.querySelector('#df-462f8daa-13c3-4965-9f81-366e4e1d59ae button');\n",
              "          quickchartButtonEl.style.display =\n",
              "            google.colab.kernel.accessAllowed ? 'block' : 'none';\n",
              "        })();\n",
              "      </script>\n",
              "    </div>\n",
              "\n",
              "  <div id=\"id_dc51a20e-7544-44fb-8651-b9d5e9661217\">\n",
              "    <style>\n",
              "      .colab-df-generate {\n",
              "        background-color: #E8F0FE;\n",
              "        border: none;\n",
              "        border-radius: 50%;\n",
              "        cursor: pointer;\n",
              "        display: none;\n",
              "        fill: #1967D2;\n",
              "        height: 32px;\n",
              "        padding: 0 0 0 0;\n",
              "        width: 32px;\n",
              "      }\n",
              "\n",
              "      .colab-df-generate:hover {\n",
              "        background-color: #E2EBFA;\n",
              "        box-shadow: 0px 1px 2px rgba(60, 64, 67, 0.3), 0px 1px 3px 1px rgba(60, 64, 67, 0.15);\n",
              "        fill: #174EA6;\n",
              "      }\n",
              "\n",
              "      [theme=dark] .colab-df-generate {\n",
              "        background-color: #3B4455;\n",
              "        fill: #D2E3FC;\n",
              "      }\n",
              "\n",
              "      [theme=dark] .colab-df-generate:hover {\n",
              "        background-color: #434B5C;\n",
              "        box-shadow: 0px 1px 3px 1px rgba(0, 0, 0, 0.15);\n",
              "        filter: drop-shadow(0px 1px 2px rgba(0, 0, 0, 0.3));\n",
              "        fill: #FFFFFF;\n",
              "      }\n",
              "    </style>\n",
              "    <button class=\"colab-df-generate\" onclick=\"generateWithVariable('df')\"\n",
              "            title=\"Generate code using this dataframe.\"\n",
              "            style=\"display:none;\">\n",
              "\n",
              "  <svg xmlns=\"http://www.w3.org/2000/svg\" height=\"24px\"viewBox=\"0 0 24 24\"\n",
              "       width=\"24px\">\n",
              "    <path d=\"M7,19H8.4L18.45,9,17,7.55,7,17.6ZM5,21V16.75L18.45,3.32a2,2,0,0,1,2.83,0l1.4,1.43a1.91,1.91,0,0,1,.58,1.4,1.91,1.91,0,0,1-.58,1.4L9.25,21ZM18.45,9,17,7.55Zm-12,3A5.31,5.31,0,0,0,4.9,8.1,5.31,5.31,0,0,0,1,6.5,5.31,5.31,0,0,0,4.9,4.9,5.31,5.31,0,0,0,6.5,1,5.31,5.31,0,0,0,8.1,4.9,5.31,5.31,0,0,0,12,6.5,5.46,5.46,0,0,0,6.5,12Z\"/>\n",
              "  </svg>\n",
              "    </button>\n",
              "    <script>\n",
              "      (() => {\n",
              "      const buttonEl =\n",
              "        document.querySelector('#id_dc51a20e-7544-44fb-8651-b9d5e9661217 button.colab-df-generate');\n",
              "      buttonEl.style.display =\n",
              "        google.colab.kernel.accessAllowed ? 'block' : 'none';\n",
              "\n",
              "      buttonEl.onclick = () => {\n",
              "        google.colab.notebook.generateWithVariable('df');\n",
              "      }\n",
              "      })();\n",
              "    </script>\n",
              "  </div>\n",
              "\n",
              "    </div>\n",
              "  </div>\n"
            ],
            "application/vnd.google.colaboratory.intrinsic+json": {
              "type": "dataframe",
              "variable_name": "df",
              "summary": "{\n  \"name\": \"df\",\n  \"rows\": 5000,\n  \"fields\": [\n    {\n      \"column\": \"PatientID\",\n      \"properties\": {\n        \"dtype\": \"category\",\n        \"num_unique_values\": 1000,\n        \"samples\": [\n          \"P0522\",\n          \"P0738\",\n          \"P0741\"\n        ],\n        \"semantic_type\": \"\",\n        \"description\": \"\"\n      }\n    },\n    {\n      \"column\": \"AgeGroup\",\n      \"properties\": {\n        \"dtype\": \"number\",\n        \"std\": 1,\n        \"min\": 0,\n        \"max\": 6,\n        \"num_unique_values\": 7,\n        \"samples\": [\n          4,\n          2,\n          1\n        ],\n        \"semantic_type\": \"\",\n        \"description\": \"\"\n      }\n    },\n    {\n      \"column\": \"Comorbidities\",\n      \"properties\": {\n        \"dtype\": \"number\",\n        \"std\": 1,\n        \"min\": 0,\n        \"max\": 5,\n        \"num_unique_values\": 6,\n        \"samples\": [\n          1,\n          2,\n          5\n        ],\n        \"semantic_type\": \"\",\n        \"description\": \"\"\n      }\n    },\n    {\n      \"column\": \"FamilyHistoryCancer\",\n      \"properties\": {\n        \"dtype\": \"number\",\n        \"std\": 0,\n        \"min\": 0,\n        \"max\": 1,\n        \"num_unique_values\": 2,\n        \"samples\": [\n          1,\n          0\n        ],\n        \"semantic_type\": \"\",\n        \"description\": \"\"\n      }\n    },\n    {\n      \"column\": \"SelfHistoryCancer\",\n      \"properties\": {\n        \"dtype\": \"number\",\n        \"std\": 0,\n        \"min\": 0,\n        \"max\": 1,\n        \"num_unique_values\": 2,\n        \"samples\": [\n          1,\n          0\n        ],\n        \"semantic_type\": \"\",\n        \"description\": \"\"\n      }\n    },\n    {\n      \"column\": \"SmokingPackYears\",\n      \"properties\": {\n        \"dtype\": \"number\",\n        \"std\": 0.22866086887585516,\n        \"min\": 0.0,\n        \"max\": 1.0,\n        \"num_unique_values\": 129,\n        \"samples\": [\n          0.3873239436619718,\n          0.18309859154929578\n        ],\n        \"semantic_type\": \"\",\n        \"description\": \"\"\n      }\n    },\n    {\n      \"column\": \"FollowUpNumber\",\n      \"properties\": {\n        \"dtype\": \"number\",\n        \"std\": 1,\n        \"min\": 1,\n        \"max\": 5,\n        \"num_unique_values\": 5,\n        \"samples\": [\n          2,\n          5\n        ],\n        \"semantic_type\": \"\",\n        \"description\": \"\"\n      }\n    },\n    {\n      \"column\": \"NoduleType\",\n      \"properties\": {\n        \"dtype\": \"number\",\n        \"std\": 0,\n        \"min\": 1,\n        \"max\": 3,\n        \"num_unique_values\": 3,\n        \"samples\": [\n          2,\n          3\n        ],\n        \"semantic_type\": \"\",\n        \"description\": \"\"\n      }\n    },\n    {\n      \"column\": \"NoduleSize_mm\",\n      \"properties\": {\n        \"dtype\": \"number\",\n        \"std\": 0.24219629561539238,\n        \"min\": 0.0,\n        \"max\": 1.0,\n        \"num_unique_values\": 267,\n        \"samples\": [\n          0.02508960573476704,\n          0.3369175627240144\n        ],\n        \"semantic_type\": \"\",\n        \"description\": \"\"\n      }\n    },\n    {\n      \"column\": \"LungRadScore\",\n      \"properties\": {\n        \"dtype\": \"number\",\n        \"std\": 1,\n        \"min\": 2,\n        \"max\": 5,\n        \"num_unique_values\": 4,\n        \"samples\": [\n          2,\n          3\n        ],\n        \"semantic_type\": \"\",\n        \"description\": \"\"\n      }\n    },\n    {\n      \"column\": \"FollowUpInterval\",\n      \"properties\": {\n        \"dtype\": \"category\",\n        \"num_unique_values\": 4,\n        \"samples\": [\n          \"12 months\",\n          \"6 months\"\n        ],\n        \"semantic_type\": \"\",\n        \"description\": \"\"\n      }\n    }\n  ]\n}"
            }
          },
          "metadata": {},
          "execution_count": 7
        }
      ]
    },
    {
      "cell_type": "code",
      "source": [
        "import numpy as np\n",
        "\n",
        "# Group by PatientID and create sequences\n",
        "grouped = df_encoded.groupby('PatientID')\n",
        "\n",
        "X_sequences = []\n",
        "for pid, group in grouped:\n",
        "    group_sorted = group.sort_values(by='FollowUpNumber')\n",
        "    features = group_sorted.drop(['PatientID', 'FollowUpInterval'], axis=1).values\n",
        "    X_sequences.append(features)\n",
        "\n",
        "# Pad sequences to the same length\n",
        "from tensorflow.keras.preprocessing.sequence import pad_sequences\n",
        "\n",
        "X_padded = pad_sequences(X_sequences, padding='post', dtype='float32')  # shape: (n_patients, max_seq_len, n_features)\n"
      ],
      "metadata": {
        "id": "hIaTXpQtXkyx"
      },
      "execution_count": 8,
      "outputs": []
    },
    {
      "cell_type": "code",
      "source": [
        "df['FollowUpInterval']"
      ],
      "metadata": {
        "colab": {
          "base_uri": "https://localhost:8080/",
          "height": 458
        },
        "id": "6XGEI-0wsQrv",
        "outputId": "3bc875a5-cff6-4231-ffe0-4684a2d56ff5"
      },
      "execution_count": 9,
      "outputs": [
        {
          "output_type": "execute_result",
          "data": {
            "text/plain": [
              "0       Immediate evaluation\n",
              "1                  12 months\n",
              "2                  12 months\n",
              "3       Immediate evaluation\n",
              "4                  12 months\n",
              "                ...         \n",
              "4995               12 months\n",
              "4996               12 months\n",
              "4997               12 months\n",
              "4998               12 months\n",
              "4999               12 months\n",
              "Name: FollowUpInterval, Length: 5000, dtype: object"
            ],
            "text/html": [
              "<div>\n",
              "<style scoped>\n",
              "    .dataframe tbody tr th:only-of-type {\n",
              "        vertical-align: middle;\n",
              "    }\n",
              "\n",
              "    .dataframe tbody tr th {\n",
              "        vertical-align: top;\n",
              "    }\n",
              "\n",
              "    .dataframe thead th {\n",
              "        text-align: right;\n",
              "    }\n",
              "</style>\n",
              "<table border=\"1\" class=\"dataframe\">\n",
              "  <thead>\n",
              "    <tr style=\"text-align: right;\">\n",
              "      <th></th>\n",
              "      <th>FollowUpInterval</th>\n",
              "    </tr>\n",
              "  </thead>\n",
              "  <tbody>\n",
              "    <tr>\n",
              "      <th>0</th>\n",
              "      <td>Immediate evaluation</td>\n",
              "    </tr>\n",
              "    <tr>\n",
              "      <th>1</th>\n",
              "      <td>12 months</td>\n",
              "    </tr>\n",
              "    <tr>\n",
              "      <th>2</th>\n",
              "      <td>12 months</td>\n",
              "    </tr>\n",
              "    <tr>\n",
              "      <th>3</th>\n",
              "      <td>Immediate evaluation</td>\n",
              "    </tr>\n",
              "    <tr>\n",
              "      <th>4</th>\n",
              "      <td>12 months</td>\n",
              "    </tr>\n",
              "    <tr>\n",
              "      <th>...</th>\n",
              "      <td>...</td>\n",
              "    </tr>\n",
              "    <tr>\n",
              "      <th>4995</th>\n",
              "      <td>12 months</td>\n",
              "    </tr>\n",
              "    <tr>\n",
              "      <th>4996</th>\n",
              "      <td>12 months</td>\n",
              "    </tr>\n",
              "    <tr>\n",
              "      <th>4997</th>\n",
              "      <td>12 months</td>\n",
              "    </tr>\n",
              "    <tr>\n",
              "      <th>4998</th>\n",
              "      <td>12 months</td>\n",
              "    </tr>\n",
              "    <tr>\n",
              "      <th>4999</th>\n",
              "      <td>12 months</td>\n",
              "    </tr>\n",
              "  </tbody>\n",
              "</table>\n",
              "<p>5000 rows × 1 columns</p>\n",
              "</div><br><label><b>dtype:</b> object</label>"
            ]
          },
          "metadata": {},
          "execution_count": 9
        }
      ]
    },
    {
      "cell_type": "code",
      "source": [
        "# Get last follow-up interval for each patient\n",
        "y_labels = grouped.tail(1)['FollowUpInterval'].values\n",
        "\n",
        "# Encode follow-up intervals (e.g., '3 months', '12 months')\n",
        "le_y = LabelEncoder()\n",
        "y_encoded = le_y.fit_transform(y_labels)\n",
        "\n",
        "# Convert to one-hot\n",
        "from tensorflow.keras.utils import to_categorical\n",
        "y_onehot = to_categorical(y_encoded)\n",
        "\n",
        "for index, label in enumerate(le_y.classes_):\n",
        "    print(f\"{index}: {label}\")"
      ],
      "metadata": {
        "id": "ggR_rV-OXmN7",
        "colab": {
          "base_uri": "https://localhost:8080/"
        },
        "outputId": "29af5e06-06ba-47f9-902d-c05a590b5534"
      },
      "execution_count": 10,
      "outputs": [
        {
          "output_type": "stream",
          "name": "stdout",
          "text": [
            "0: 12 months\n",
            "1: 3 months\n",
            "2: 6 months\n",
            "3: Immediate evaluation\n"
          ]
        }
      ]
    },
    {
      "cell_type": "code",
      "source": [
        "df['FollowUpInterval'].value_counts()\n"
      ],
      "metadata": {
        "colab": {
          "base_uri": "https://localhost:8080/",
          "height": 240
        },
        "id": "GV_obR4Y6QQ7",
        "outputId": "41eed6d5-7e27-426f-ff93-ebb71230e2b8"
      },
      "execution_count": 11,
      "outputs": [
        {
          "output_type": "execute_result",
          "data": {
            "text/plain": [
              "FollowUpInterval\n",
              "12 months               2665\n",
              "Immediate evaluation     977\n",
              "6 months                 746\n",
              "3 months                 612\n",
              "Name: count, dtype: int64"
            ],
            "text/html": [
              "<div>\n",
              "<style scoped>\n",
              "    .dataframe tbody tr th:only-of-type {\n",
              "        vertical-align: middle;\n",
              "    }\n",
              "\n",
              "    .dataframe tbody tr th {\n",
              "        vertical-align: top;\n",
              "    }\n",
              "\n",
              "    .dataframe thead th {\n",
              "        text-align: right;\n",
              "    }\n",
              "</style>\n",
              "<table border=\"1\" class=\"dataframe\">\n",
              "  <thead>\n",
              "    <tr style=\"text-align: right;\">\n",
              "      <th></th>\n",
              "      <th>count</th>\n",
              "    </tr>\n",
              "    <tr>\n",
              "      <th>FollowUpInterval</th>\n",
              "      <th></th>\n",
              "    </tr>\n",
              "  </thead>\n",
              "  <tbody>\n",
              "    <tr>\n",
              "      <th>12 months</th>\n",
              "      <td>2665</td>\n",
              "    </tr>\n",
              "    <tr>\n",
              "      <th>Immediate evaluation</th>\n",
              "      <td>977</td>\n",
              "    </tr>\n",
              "    <tr>\n",
              "      <th>6 months</th>\n",
              "      <td>746</td>\n",
              "    </tr>\n",
              "    <tr>\n",
              "      <th>3 months</th>\n",
              "      <td>612</td>\n",
              "    </tr>\n",
              "  </tbody>\n",
              "</table>\n",
              "</div><br><label><b>dtype:</b> int64</label>"
            ]
          },
          "metadata": {},
          "execution_count": 11
        }
      ]
    },
    {
      "cell_type": "code",
      "source": [
        "from sklearn.model_selection import train_test_split\n",
        "\n",
        "X_train, X_test, y_train, y_test = train_test_split(\n",
        "    X_padded, y_onehot, test_size=0.2, random_state=42\n",
        ")\n",
        "\n",
        "# Get shapes\n",
        "timesteps = X_train.shape[1]\n",
        "features = X_train.shape[2]\n",
        "num_classes = y_onehot.shape[1]\n",
        "print(features)\n"
      ],
      "metadata": {
        "id": "BCu16GWpXq-m",
        "colab": {
          "base_uri": "https://localhost:8080/"
        },
        "outputId": "64489bb1-dbe7-452f-c9a1-c27640e7ea4c"
      },
      "execution_count": 12,
      "outputs": [
        {
          "output_type": "stream",
          "name": "stdout",
          "text": [
            "9\n"
          ]
        }
      ]
    },
    {
      "cell_type": "code",
      "source": [
        "print(X_train.shape)\n"
      ],
      "metadata": {
        "colab": {
          "base_uri": "https://localhost:8080/"
        },
        "id": "QOHUItvcScfx",
        "outputId": "e135936e-83f5-4944-fa45-56106f1a42b3"
      },
      "execution_count": 13,
      "outputs": [
        {
          "output_type": "stream",
          "name": "stdout",
          "text": [
            "(800, 5, 9)\n"
          ]
        }
      ]
    },
    {
      "cell_type": "code",
      "source": [
        "from tensorflow.keras.models import Sequential\n",
        "from tensorflow.keras.layers import LSTM, Dense\n",
        "\n",
        "model = Sequential()\n",
        "model.add(LSTM(128, return_sequences=True, input_shape=(timesteps, features)))  # 1st LSTM layer\n",
        "model.add(LSTM(64, return_sequences=True))                                      # 2nd LSTM layer\n",
        "model.add(LSTM(32))                                                             # 3rd LSTM layer (last one)\n",
        "model.add(Dense(num_classes, activation='softmax'))                             # Output layer\n",
        "\n",
        "model.compile(loss='categorical_crossentropy', optimizer='adam', metrics=['accuracy'])\n",
        "\n",
        "history = model.fit(X_train, y_train, epochs=40, batch_size=10, validation_split=0.2)\n"
      ],
      "metadata": {
        "colab": {
          "base_uri": "https://localhost:8080/"
        },
        "id": "IaJhP9oSrquX",
        "outputId": "09cad662-a56b-4c20-ca94-8aa394a813b7"
      },
      "execution_count": 14,
      "outputs": [
        {
          "output_type": "stream",
          "name": "stderr",
          "text": [
            "/usr/local/lib/python3.11/dist-packages/keras/src/layers/rnn/rnn.py:200: UserWarning: Do not pass an `input_shape`/`input_dim` argument to a layer. When using Sequential models, prefer using an `Input(shape)` object as the first layer in the model instead.\n",
            "  super().__init__(**kwargs)\n"
          ]
        },
        {
          "output_type": "stream",
          "name": "stdout",
          "text": [
            "Epoch 1/40\n",
            "\u001b[1m64/64\u001b[0m \u001b[32m━━━━━━━━━━━━━━━━━━━━\u001b[0m\u001b[37m\u001b[0m \u001b[1m6s\u001b[0m 24ms/step - accuracy: 0.5809 - loss: 1.1742 - val_accuracy: 0.5500 - val_loss: 1.1545\n",
            "Epoch 2/40\n",
            "\u001b[1m64/64\u001b[0m \u001b[32m━━━━━━━━━━━━━━━━━━━━\u001b[0m\u001b[37m\u001b[0m \u001b[1m1s\u001b[0m 15ms/step - accuracy: 0.5980 - loss: 1.0981 - val_accuracy: 0.5500 - val_loss: 1.0777\n",
            "Epoch 3/40\n",
            "\u001b[1m64/64\u001b[0m \u001b[32m━━━━━━━━━━━━━━━━━━━━\u001b[0m\u001b[37m\u001b[0m \u001b[1m1s\u001b[0m 12ms/step - accuracy: 0.5755 - loss: 1.0687 - val_accuracy: 0.5688 - val_loss: 1.0219\n",
            "Epoch 4/40\n",
            "\u001b[1m64/64\u001b[0m \u001b[32m━━━━━━━━━━━━━━━━━━━━\u001b[0m\u001b[37m\u001b[0m \u001b[1m1s\u001b[0m 9ms/step - accuracy: 0.6149 - loss: 0.9490 - val_accuracy: 0.5625 - val_loss: 0.9799\n",
            "Epoch 5/40\n",
            "\u001b[1m64/64\u001b[0m \u001b[32m━━━━━━━━━━━━━━━━━━━━\u001b[0m\u001b[37m\u001b[0m \u001b[1m1s\u001b[0m 10ms/step - accuracy: 0.7322 - loss: 0.7586 - val_accuracy: 0.7563 - val_loss: 0.5914\n",
            "Epoch 6/40\n",
            "\u001b[1m64/64\u001b[0m \u001b[32m━━━━━━━━━━━━━━━━━━━━\u001b[0m\u001b[37m\u001b[0m \u001b[1m1s\u001b[0m 10ms/step - accuracy: 0.8989 - loss: 0.3659 - val_accuracy: 0.9750 - val_loss: 0.2198\n",
            "Epoch 7/40\n",
            "\u001b[1m64/64\u001b[0m \u001b[32m━━━━━━━━━━━━━━━━━━━━\u001b[0m\u001b[37m\u001b[0m \u001b[1m1s\u001b[0m 9ms/step - accuracy: 0.9691 - loss: 0.1856 - val_accuracy: 0.9563 - val_loss: 0.1684\n",
            "Epoch 8/40\n",
            "\u001b[1m64/64\u001b[0m \u001b[32m━━━━━━━━━━━━━━━━━━━━\u001b[0m\u001b[37m\u001b[0m \u001b[1m1s\u001b[0m 9ms/step - accuracy: 0.9838 - loss: 0.1240 - val_accuracy: 0.9937 - val_loss: 0.0794\n",
            "Epoch 9/40\n",
            "\u001b[1m64/64\u001b[0m \u001b[32m━━━━━━━━━━━━━━━━━━━━\u001b[0m\u001b[37m\u001b[0m \u001b[1m1s\u001b[0m 9ms/step - accuracy: 0.9962 - loss: 0.0581 - val_accuracy: 0.9937 - val_loss: 0.0514\n",
            "Epoch 10/40\n",
            "\u001b[1m64/64\u001b[0m \u001b[32m━━━━━━━━━━━━━━━━━━━━\u001b[0m\u001b[37m\u001b[0m \u001b[1m1s\u001b[0m 11ms/step - accuracy: 1.0000 - loss: 0.0386 - val_accuracy: 0.9937 - val_loss: 0.0352\n",
            "Epoch 11/40\n",
            "\u001b[1m64/64\u001b[0m \u001b[32m━━━━━━━━━━━━━━━━━━━━\u001b[0m\u001b[37m\u001b[0m \u001b[1m1s\u001b[0m 10ms/step - accuracy: 1.0000 - loss: 0.0240 - val_accuracy: 0.9937 - val_loss: 0.0258\n",
            "Epoch 12/40\n",
            "\u001b[1m64/64\u001b[0m \u001b[32m━━━━━━━━━━━━━━━━━━━━\u001b[0m\u001b[37m\u001b[0m \u001b[1m1s\u001b[0m 9ms/step - accuracy: 1.0000 - loss: 0.0187 - val_accuracy: 0.9937 - val_loss: 0.0235\n",
            "Epoch 13/40\n",
            "\u001b[1m64/64\u001b[0m \u001b[32m━━━━━━━━━━━━━━━━━━━━\u001b[0m\u001b[37m\u001b[0m \u001b[1m1s\u001b[0m 10ms/step - accuracy: 1.0000 - loss: 0.0142 - val_accuracy: 0.9937 - val_loss: 0.0174\n",
            "Epoch 14/40\n",
            "\u001b[1m64/64\u001b[0m \u001b[32m━━━━━━━━━━━━━━━━━━━━\u001b[0m\u001b[37m\u001b[0m \u001b[1m1s\u001b[0m 11ms/step - accuracy: 1.0000 - loss: 0.0108 - val_accuracy: 1.0000 - val_loss: 0.0141\n",
            "Epoch 15/40\n",
            "\u001b[1m64/64\u001b[0m \u001b[32m━━━━━━━━━━━━━━━━━━━━\u001b[0m\u001b[37m\u001b[0m \u001b[1m1s\u001b[0m 11ms/step - accuracy: 1.0000 - loss: 0.0095 - val_accuracy: 0.9937 - val_loss: 0.0172\n",
            "Epoch 16/40\n",
            "\u001b[1m64/64\u001b[0m \u001b[32m━━━━━━━━━━━━━━━━━━━━\u001b[0m\u001b[37m\u001b[0m \u001b[1m2s\u001b[0m 16ms/step - accuracy: 1.0000 - loss: 0.0079 - val_accuracy: 0.9937 - val_loss: 0.0144\n",
            "Epoch 17/40\n",
            "\u001b[1m64/64\u001b[0m \u001b[32m━━━━━━━━━━━━━━━━━━━━\u001b[0m\u001b[37m\u001b[0m \u001b[1m1s\u001b[0m 15ms/step - accuracy: 1.0000 - loss: 0.0066 - val_accuracy: 0.9937 - val_loss: 0.0108\n",
            "Epoch 18/40\n",
            "\u001b[1m64/64\u001b[0m \u001b[32m━━━━━━━━━━━━━━━━━━━━\u001b[0m\u001b[37m\u001b[0m \u001b[1m1s\u001b[0m 10ms/step - accuracy: 1.0000 - loss: 0.0057 - val_accuracy: 0.9937 - val_loss: 0.0120\n",
            "Epoch 19/40\n",
            "\u001b[1m64/64\u001b[0m \u001b[32m━━━━━━━━━━━━━━━━━━━━\u001b[0m\u001b[37m\u001b[0m \u001b[1m1s\u001b[0m 10ms/step - accuracy: 1.0000 - loss: 0.0045 - val_accuracy: 0.9937 - val_loss: 0.0143\n",
            "Epoch 20/40\n",
            "\u001b[1m64/64\u001b[0m \u001b[32m━━━━━━━━━━━━━━━━━━━━\u001b[0m\u001b[37m\u001b[0m \u001b[1m1s\u001b[0m 10ms/step - accuracy: 1.0000 - loss: 0.0041 - val_accuracy: 0.9937 - val_loss: 0.0121\n",
            "Epoch 21/40\n",
            "\u001b[1m64/64\u001b[0m \u001b[32m━━━━━━━━━━━━━━━━━━━━\u001b[0m\u001b[37m\u001b[0m \u001b[1m1s\u001b[0m 10ms/step - accuracy: 1.0000 - loss: 0.0037 - val_accuracy: 0.9937 - val_loss: 0.0094\n",
            "Epoch 22/40\n",
            "\u001b[1m64/64\u001b[0m \u001b[32m━━━━━━━━━━━━━━━━━━━━\u001b[0m\u001b[37m\u001b[0m \u001b[1m1s\u001b[0m 15ms/step - accuracy: 1.0000 - loss: 0.0037 - val_accuracy: 0.9937 - val_loss: 0.0100\n",
            "Epoch 23/40\n",
            "\u001b[1m64/64\u001b[0m \u001b[32m━━━━━━━━━━━━━━━━━━━━\u001b[0m\u001b[37m\u001b[0m \u001b[1m1s\u001b[0m 16ms/step - accuracy: 1.0000 - loss: 0.0032 - val_accuracy: 0.9937 - val_loss: 0.0087\n",
            "Epoch 24/40\n",
            "\u001b[1m64/64\u001b[0m \u001b[32m━━━━━━━━━━━━━━━━━━━━\u001b[0m\u001b[37m\u001b[0m \u001b[1m1s\u001b[0m 15ms/step - accuracy: 1.0000 - loss: 0.0026 - val_accuracy: 0.9937 - val_loss: 0.0090\n",
            "Epoch 25/40\n",
            "\u001b[1m64/64\u001b[0m \u001b[32m━━━━━━━━━━━━━━━━━━━━\u001b[0m\u001b[37m\u001b[0m \u001b[1m1s\u001b[0m 9ms/step - accuracy: 1.0000 - loss: 0.0026 - val_accuracy: 0.9937 - val_loss: 0.0131\n",
            "Epoch 26/40\n",
            "\u001b[1m64/64\u001b[0m \u001b[32m━━━━━━━━━━━━━━━━━━━━\u001b[0m\u001b[37m\u001b[0m \u001b[1m1s\u001b[0m 9ms/step - accuracy: 1.0000 - loss: 0.0022 - val_accuracy: 0.9937 - val_loss: 0.0118\n",
            "Epoch 27/40\n",
            "\u001b[1m64/64\u001b[0m \u001b[32m━━━━━━━━━━━━━━━━━━━━\u001b[0m\u001b[37m\u001b[0m \u001b[1m1s\u001b[0m 10ms/step - accuracy: 1.0000 - loss: 0.0020 - val_accuracy: 0.9937 - val_loss: 0.0112\n",
            "Epoch 28/40\n",
            "\u001b[1m64/64\u001b[0m \u001b[32m━━━━━━━━━━━━━━━━━━━━\u001b[0m\u001b[37m\u001b[0m \u001b[1m1s\u001b[0m 10ms/step - accuracy: 1.0000 - loss: 0.0019 - val_accuracy: 0.9937 - val_loss: 0.0121\n",
            "Epoch 29/40\n",
            "\u001b[1m64/64\u001b[0m \u001b[32m━━━━━━━━━━━━━━━━━━━━\u001b[0m\u001b[37m\u001b[0m \u001b[1m1s\u001b[0m 15ms/step - accuracy: 1.0000 - loss: 0.0018 - val_accuracy: 0.9937 - val_loss: 0.0124\n",
            "Epoch 30/40\n",
            "\u001b[1m64/64\u001b[0m \u001b[32m━━━━━━━━━━━━━━━━━━━━\u001b[0m\u001b[37m\u001b[0m \u001b[1m1s\u001b[0m 15ms/step - accuracy: 1.0000 - loss: 0.0016 - val_accuracy: 0.9937 - val_loss: 0.0134\n",
            "Epoch 31/40\n",
            "\u001b[1m64/64\u001b[0m \u001b[32m━━━━━━━━━━━━━━━━━━━━\u001b[0m\u001b[37m\u001b[0m \u001b[1m1s\u001b[0m 11ms/step - accuracy: 1.0000 - loss: 0.0015 - val_accuracy: 0.9937 - val_loss: 0.0112\n",
            "Epoch 32/40\n",
            "\u001b[1m64/64\u001b[0m \u001b[32m━━━━━━━━━━━━━━━━━━━━\u001b[0m\u001b[37m\u001b[0m \u001b[1m1s\u001b[0m 9ms/step - accuracy: 1.0000 - loss: 0.0015 - val_accuracy: 0.9937 - val_loss: 0.0120\n",
            "Epoch 33/40\n",
            "\u001b[1m64/64\u001b[0m \u001b[32m━━━━━━━━━━━━━━━━━━━━\u001b[0m\u001b[37m\u001b[0m \u001b[1m1s\u001b[0m 11ms/step - accuracy: 1.0000 - loss: 0.0013 - val_accuracy: 0.9937 - val_loss: 0.0108\n",
            "Epoch 34/40\n",
            "\u001b[1m64/64\u001b[0m \u001b[32m━━━━━━━━━━━━━━━━━━━━\u001b[0m\u001b[37m\u001b[0m \u001b[1m1s\u001b[0m 9ms/step - accuracy: 1.0000 - loss: 0.0011 - val_accuracy: 0.9937 - val_loss: 0.0110\n",
            "Epoch 35/40\n",
            "\u001b[1m64/64\u001b[0m \u001b[32m━━━━━━━━━━━━━━━━━━━━\u001b[0m\u001b[37m\u001b[0m \u001b[1m1s\u001b[0m 10ms/step - accuracy: 1.0000 - loss: 0.0012 - val_accuracy: 0.9937 - val_loss: 0.0124\n",
            "Epoch 36/40\n",
            "\u001b[1m64/64\u001b[0m \u001b[32m━━━━━━━━━━━━━━━━━━━━\u001b[0m\u001b[37m\u001b[0m \u001b[1m1s\u001b[0m 9ms/step - accuracy: 1.0000 - loss: 0.0011 - val_accuracy: 0.9937 - val_loss: 0.0123\n",
            "Epoch 37/40\n",
            "\u001b[1m64/64\u001b[0m \u001b[32m━━━━━━━━━━━━━━━━━━━━\u001b[0m\u001b[37m\u001b[0m \u001b[1m1s\u001b[0m 9ms/step - accuracy: 1.0000 - loss: 9.6446e-04 - val_accuracy: 0.9937 - val_loss: 0.0120\n",
            "Epoch 38/40\n",
            "\u001b[1m64/64\u001b[0m \u001b[32m━━━━━━━━━━━━━━━━━━━━\u001b[0m\u001b[37m\u001b[0m \u001b[1m1s\u001b[0m 10ms/step - accuracy: 1.0000 - loss: 9.5098e-04 - val_accuracy: 0.9937 - val_loss: 0.0143\n",
            "Epoch 39/40\n",
            "\u001b[1m64/64\u001b[0m \u001b[32m━━━━━━━━━━━━━━━━━━━━\u001b[0m\u001b[37m\u001b[0m \u001b[1m1s\u001b[0m 9ms/step - accuracy: 1.0000 - loss: 8.8825e-04 - val_accuracy: 0.9937 - val_loss: 0.0082\n",
            "Epoch 40/40\n",
            "\u001b[1m64/64\u001b[0m \u001b[32m━━━━━━━━━━━━━━━━━━━━\u001b[0m\u001b[37m\u001b[0m \u001b[1m1s\u001b[0m 10ms/step - accuracy: 1.0000 - loss: 8.5304e-04 - val_accuracy: 0.9937 - val_loss: 0.0130\n"
          ]
        }
      ]
    },
    {
      "cell_type": "code",
      "source": [
        "import numpy as np\n",
        "from sklearn.metrics import confusion_matrix, classification_report\n",
        "import seaborn as sns\n",
        "import matplotlib.pyplot as plt\n",
        "\n",
        "# Predict on test set\n",
        "y_pred_probs = model.predict(X_test)\n",
        "y_pred = np.argmax(y_pred_probs, axis=1)\n",
        "y_true = np.argmax(y_test, axis=1)\n",
        "\n",
        "# Decode to original labels\n",
        "y_pred_labels = le_y.inverse_transform(y_pred)\n",
        "y_true_labels = le_y.inverse_transform(y_true)\n",
        "\n",
        "# Plot confusion matrix\n",
        "cm = confusion_matrix(y_true_labels, y_pred_labels, labels=le_y.classes_)\n",
        "sns.heatmap(cm, annot=True, fmt='d', xticklabels=le_y.classes_, yticklabels=le_y.classes_)\n",
        "plt.xlabel(\"Predicted\")\n",
        "plt.ylabel(\"True\")\n",
        "plt.title(\"Confusion Matrix\")\n",
        "plt.show()\n"
      ],
      "metadata": {
        "colab": {
          "base_uri": "https://localhost:8080/",
          "height": 628
        },
        "id": "Ioo-OS8XYYid",
        "outputId": "4883f3aa-8e91-465e-902c-4e573e2fa169"
      },
      "execution_count": 15,
      "outputs": [
        {
          "output_type": "stream",
          "name": "stdout",
          "text": [
            "\u001b[1m7/7\u001b[0m \u001b[32m━━━━━━━━━━━━━━━━━━━━\u001b[0m\u001b[37m\u001b[0m \u001b[1m1s\u001b[0m 111ms/step\n"
          ]
        },
        {
          "output_type": "display_data",
          "data": {
            "text/plain": [
              "<Figure size 640x480 with 2 Axes>"
            ],
            "image/png": "[encoded data removed]"
          },
          "metadata": {}
        }
      ]
    },
    {
      "cell_type": "code",
      "source": [
        "print(classification_report(y_true_labels, y_pred_labels))\n"
      ],
      "metadata": {
        "colab": {
          "base_uri": "https://localhost:8080/"
        },
        "id": "iXMx-MwDYflI",
        "outputId": "1756859a-c93c-4564-cd24-cb0ff097a105"
      },
      "execution_count": 16,
      "outputs": [
        {
          "output_type": "stream",
          "name": "stdout",
          "text": [
            "                      precision    recall  f1-score   support\n",
            "\n",
            "           12 months       0.99      1.00      1.00       121\n",
            "            3 months       1.00      1.00      1.00        17\n",
            "            6 months       1.00      0.96      0.98        25\n",
            "Immediate evaluation       1.00      1.00      1.00        37\n",
            "\n",
            "            accuracy                           0.99       200\n",
            "           macro avg       1.00      0.99      0.99       200\n",
            "        weighted avg       1.00      0.99      0.99       200\n",
            "\n"
          ]
        }
      ]
    },
    {
      "cell_type": "code",
      "source": [
        "model.summary()\n"
      ],
      "metadata": {
        "colab": {
          "base_uri": "https://localhost:8080/",
          "height": 278
        },
        "id": "pXUD5thr6z96",
        "outputId": "13cd4a5e-f388-4b38-9065-e77f8c5ed311"
      },
      "execution_count": 17,
      "outputs": [
        {
          "output_type": "display_data",
          "data": {
            "text/plain": [
              "\u001b[1mModel: \"sequential\"\u001b[0m\n"
            ],
            "text/html": [
              "<pre style=\"white-space:pre;overflow-x:auto;line-height:normal;font-family:Menlo,'DejaVu Sans Mono',consolas,'Courier New',monospace\"><span style=\"font-weight: bold\">Model: \"sequential\"</span>\n",
              "</pre>\n"
            ]
          },
          "metadata": {}
        },
        {
          "output_type": "display_data",
          "data": {
            "text/plain": [
              "┏━━━━━━━━━━━━━━━━━━━━━━━━━━━━━━━━━┳━━━━━━━━━━━━━━━━━━━━━━━━┳━━━━━━━━━━━━━━━┓\n",
              "┃\u001b[1m \u001b[0m\u001b[1mLayer (type)                   \u001b[0m\u001b[1m \u001b[0m┃\u001b[1m \u001b[0m\u001b[1mOutput Shape          \u001b[0m\u001b[1m \u001b[0m┃\u001b[1m \u001b[0m\u001b[1m      Param #\u001b[0m\u001b[1m \u001b[0m┃\n",
              "┡━━━━━━━━━━━━━━━━━━━━━━━━━━━━━━━━━╇━━━━━━━━━━━━━━━━━━━━━━━━╇━━━━━━━━━━━━━━━┩\n",
              "│ lstm (\u001b[38;5;33mLSTM\u001b[0m)                     │ (\u001b[38;5;45mNone\u001b[0m, \u001b[38;5;34m5\u001b[0m, \u001b[38;5;34m128\u001b[0m)         │        \u001b[38;5;34m70,656\u001b[0m │\n",
              "├─────────────────────────────────┼────────────────────────┼───────────────┤\n",
              "│ lstm_1 (\u001b[38;5;33mLSTM\u001b[0m)                   │ (\u001b[38;5;45mNone\u001b[0m, \u001b[38;5;34m5\u001b[0m, \u001b[38;5;34m64\u001b[0m)          │        \u001b[38;5;34m49,408\u001b[0m │\n",
              "├─────────────────────────────────┼────────────────────────┼───────────────┤\n",
              "│ lstm_2 (\u001b[38;5;33mLSTM\u001b[0m)                   │ (\u001b[38;5;45mNone\u001b[0m, \u001b[38;5;34m32\u001b[0m)             │        \u001b[38;5;34m12,416\u001b[0m │\n",
              "├─────────────────────────────────┼────────────────────────┼───────────────┤\n",
              "│ dense (\u001b[38;5;33mDense\u001b[0m)                   │ (\u001b[38;5;45mNone\u001b[0m, \u001b[38;5;34m4\u001b[0m)              │           \u001b[38;5;34m132\u001b[0m │\n",
              "└─────────────────────────────────┴────────────────────────┴───────────────┘\n"
            ],
            "text/html": [
              "<pre style=\"white-space:pre;overflow-x:auto;line-height:normal;font-family:Menlo,'DejaVu Sans Mono',consolas,'Courier New',monospace\">┏━━━━━━━━━━━━━━━━━━━━━━━━━━━━━━━━━┳━━━━━━━━━━━━━━━━━━━━━━━━┳━━━━━━━━━━━━━━━┓\n",
              "┃<span style=\"font-weight: bold\"> Layer (type)                    </span>┃<span style=\"font-weight: bold\"> Output Shape           </span>┃<span style=\"font-weight: bold\">       Param # </span>┃\n",
              "┡━━━━━━━━━━━━━━━━━━━━━━━━━━━━━━━━━╇━━━━━━━━━━━━━━━━━━━━━━━━╇━━━━━━━━━━━━━━━┩\n",
              "│ lstm (<span style=\"color: #0087ff; text-decoration-color: #0087ff\">LSTM</span>)                     │ (<span style=\"color: #00d7ff; text-decoration-color: #00d7ff\">None</span>, <span style=\"color: #00af00; text-decoration-color: #00af00\">5</span>, <span style=\"color: #00af00; text-decoration-color: #00af00\">128</span>)         │        <span style=\"color: #00af00; text-decoration-color: #00af00\">70,656</span> │\n",
              "├─────────────────────────────────┼────────────────────────┼───────────────┤\n",
              "│ lstm_1 (<span style=\"color: #0087ff; text-decoration-color: #0087ff\">LSTM</span>)                   │ (<span style=\"color: #00d7ff; text-decoration-color: #00d7ff\">None</span>, <span style=\"color: #00af00; text-decoration-color: #00af00\">5</span>, <span style=\"color: #00af00; text-decoration-color: #00af00\">64</span>)          │        <span style=\"color: #00af00; text-decoration-color: #00af00\">49,408</span> │\n",
              "├─────────────────────────────────┼────────────────────────┼───────────────┤\n",
              "│ lstm_2 (<span style=\"color: #0087ff; text-decoration-color: #0087ff\">LSTM</span>)                   │ (<span style=\"color: #00d7ff; text-decoration-color: #00d7ff\">None</span>, <span style=\"color: #00af00; text-decoration-color: #00af00\">32</span>)             │        <span style=\"color: #00af00; text-decoration-color: #00af00\">12,416</span> │\n",
              "├─────────────────────────────────┼────────────────────────┼───────────────┤\n",
              "│ dense (<span style=\"color: #0087ff; text-decoration-color: #0087ff\">Dense</span>)                   │ (<span style=\"color: #00d7ff; text-decoration-color: #00d7ff\">None</span>, <span style=\"color: #00af00; text-decoration-color: #00af00\">4</span>)              │           <span style=\"color: #00af00; text-decoration-color: #00af00\">132</span> │\n",
              "└─────────────────────────────────┴────────────────────────┴───────────────┘\n",
              "</pre>\n"
            ]
          },
          "metadata": {}
        },
        {
          "output_type": "display_data",
          "data": {
            "text/plain": [
              "\u001b[1m Total params: \u001b[0m\u001b[38;5;34m397,838\u001b[0m (1.52 MB)\n"
            ],
            "text/html": [
              "<pre style=\"white-space:pre;overflow-x:auto;line-height:normal;font-family:Menlo,'DejaVu Sans Mono',consolas,'Courier New',monospace\"><span style=\"font-weight: bold\"> Total params: </span><span style=\"color: #00af00; text-decoration-color: #00af00\">397,838</span> (1.52 MB)\n",
              "</pre>\n"
            ]
          },
          "metadata": {}
        },
        {
          "output_type": "display_data",
          "data": {
            "text/plain": [
              "\u001b[1m Trainable params: \u001b[0m\u001b[38;5;34m132,612\u001b[0m (518.02 KB)\n"
            ],
            "text/html": [
              "<pre style=\"white-space:pre;overflow-x:auto;line-height:normal;font-family:Menlo,'DejaVu Sans Mono',consolas,'Courier New',monospace\"><span style=\"font-weight: bold\"> Trainable params: </span><span style=\"color: #00af00; text-decoration-color: #00af00\">132,612</span> (518.02 KB)\n",
              "</pre>\n"
            ]
          },
          "metadata": {}
        },
        {
          "output_type": "display_data",
          "data": {
            "text/plain": [
              "\u001b[1m Non-trainable params: \u001b[0m\u001b[38;5;34m0\u001b[0m (0.00 B)\n"
            ],
            "text/html": [
              "<pre style=\"white-space:pre;overflow-x:auto;line-height:normal;font-family:Menlo,'DejaVu Sans Mono',consolas,'Courier New',monospace\"><span style=\"font-weight: bold\"> Non-trainable params: </span><span style=\"color: #00af00; text-decoration-color: #00af00\">0</span> (0.00 B)\n",
              "</pre>\n"
            ]
          },
          "metadata": {}
        },
        {
          "output_type": "display_data",
          "data": {
            "text/plain": [
              "\u001b[1m Optimizer params: \u001b[0m\u001b[38;5;34m265,226\u001b[0m (1.01 MB)\n"
            ],
            "text/html": [
              "<pre style=\"white-space:pre;overflow-x:auto;line-height:normal;font-family:Menlo,'DejaVu Sans Mono',consolas,'Courier New',monospace\"><span style=\"font-weight: bold\"> Optimizer params: </span><span style=\"color: #00af00; text-decoration-color: #00af00\">265,226</span> (1.01 MB)\n",
              "</pre>\n"
            ]
          },
          "metadata": {}
        }
      ]
    },
    {
      "cell_type": "code",
      "source": [
        "model.save(\"followup_lstm_model.h5\", include_optimizer=False)\n"
      ],
      "metadata": {
        "colab": {
          "base_uri": "https://localhost:8080/"
        },
        "id": "N6Cr5WSUYh_7",
        "outputId": "1cc19691-563f-4e7b-a131-848dde273b58"
      },
      "execution_count": 18,
      "outputs": [
        {
          "output_type": "stream",
          "name": "stderr",
          "text": [
            "WARNING:absl:You are saving your model as an HDF5 file via `model.save()` or `keras.saving.save_model(model)`. This file format is considered legacy. We recommend using instead the native Keras format, e.g. `model.save('my_model.keras')` or `keras.saving.save_model(model, 'my_model.keras')`. \n"
          ]
        }
      ]
    },
    {
      "cell_type": "code",
      "source": [
        "pip install streamlit"
      ],
      "metadata": {
        "colab": {
          "base_uri": "https://localhost:8080/"
        },
        "id": "91Zx_tgQZWc-",
        "outputId": "7e413351-4314-4a68-c8eb-2027c6c8651c"
      },
      "execution_count": 19,
      "outputs": [
        {
          "output_type": "stream",
          "name": "stdout",
          "text": [
            "Collecting streamlit\n",
            "  Downloading streamlit-1.47.0-py3-none-any.whl.metadata (9.0 kB)\n",
            "Requirement already satisfied: altair<6,>=4.0 in /usr/local/lib/python3.11/dist-packages (from streamlit) (5.5.0)\n",
            "Requirement already satisfied: blinker<2,>=1.5.0 in /usr/local/lib/python3.11/dist-packages (from streamlit) (1.9.0)\n",
            "Requirement already satisfied: cachetools<7,>=4.0 in /usr/local/lib/python3.11/dist-packages (from streamlit) (5.5.2)\n",
            "Requirement already satisfied: click<9,>=7.0 in /usr/local/lib/python3.11/dist-packages (from streamlit) (8.2.1)\n",
            "Requirement already satisfied: numpy<3,>=1.23 in /usr/local/lib/python3.11/dist-packages (from streamlit) (2.0.2)\n",
            "Requirement already satisfied: packaging<26,>=20 in /usr/local/lib/python3.11/dist-packages (from streamlit) (25.0)\n",
            "Requirement already satisfied: pandas<3,>=1.4.0 in /usr/local/lib/python3.11/dist-packages (from streamlit) (2.2.2)\n",
            "Requirement already satisfied: pillow<12,>=7.1.0 in /usr/local/lib/python3.11/dist-packages (from streamlit) (11.2.1)\n",
            "Requirement already satisfied: protobuf<7,>=3.20 in /usr/local/lib/python3.11/dist-packages (from streamlit) (5.29.5)\n",
            "Requirement already satisfied: pyarrow>=7.0 in /usr/local/lib/python3.11/dist-packages (from streamlit) (18.1.0)\n",
            "Requirement already satisfied: requests<3,>=2.27 in /usr/local/lib/python3.11/dist-packages (from streamlit) (2.32.3)\n",
            "Requirement already satisfied: tenacity<10,>=8.1.0 in /usr/local/lib/python3.11/dist-packages (from streamlit) (8.5.0)\n",
            "Requirement already satisfied: toml<2,>=0.10.1 in /usr/local/lib/python3.11/dist-packages (from streamlit) (0.10.2)\n",
            "Requirement already satisfied: typing-extensions<5,>=4.4.0 in /usr/local/lib/python3.11/dist-packages (from streamlit) (4.14.1)\n",
            "Collecting watchdog<7,>=2.1.5 (from streamlit)\n",
            "  Downloading watchdog-6.0.0-py3-none-manylinux2014_x86_64.whl.metadata (44 kB)\n",
            "\u001b[2K     \u001b[90m━━━━━━━━━━━━━━━━━━━━━━━━━━━━━━━━━━━━━━━━\u001b[0m \u001b[32m44.3/44.3 kB\u001b[0m \u001b[31m3.0 MB/s\u001b[0m eta \u001b[36m0:00:00\u001b[0m\n",
            "\u001b[?25hRequirement already satisfied: gitpython!=3.1.19,<4,>=3.0.7 in /usr/local/lib/python3.11/dist-packages (from streamlit) (3.1.44)\n",
            "Collecting pydeck<1,>=0.8.0b4 (from streamlit)\n",
            "  Downloading pydeck-0.9.1-py2.py3-none-any.whl.metadata (4.1 kB)\n",
            "Requirement already satisfied: tornado!=6.5.0,<7,>=6.0.3 in /usr/local/lib/python3.11/dist-packages (from streamlit) (6.4.2)\n",
            "Requirement already satisfied: jinja2 in /usr/local/lib/python3.11/dist-packages (from altair<6,>=4.0->streamlit) (3.1.6)\n",
            "Requirement already satisfied: jsonschema>=3.0 in /usr/local/lib/python3.11/dist-packages (from altair<6,>=4.0->streamlit) (4.24.1)\n",
            "Requirement already satisfied: narwhals>=1.14.2 in /usr/local/lib/python3.11/dist-packages (from altair<6,>=4.0->streamlit) (1.47.1)\n",
            "Requirement already satisfied: gitdb<5,>=4.0.1 in /usr/local/lib/python3.11/dist-packages (from gitpython!=3.1.19,<4,>=3.0.7->streamlit) (4.0.12)\n",
            "Requirement already satisfied: python-dateutil>=2.8.2 in /usr/local/lib/python3.11/dist-packages (from pandas<3,>=1.4.0->streamlit) (2.9.0.post0)\n",
            "Requirement already satisfied: pytz>=2020.1 in /usr/local/lib/python3.11/dist-packages (from pandas<3,>=1.4.0->streamlit) (2025.2)\n",
            "Requirement already satisfied: tzdata>=2022.7 in /usr/local/lib/python3.11/dist-packages (from pandas<3,>=1.4.0->streamlit) (2025.2)\n",
            "Requirement already satisfied: charset-normalizer<4,>=2 in /usr/local/lib/python3.11/dist-packages (from requests<3,>=2.27->streamlit) (3.4.2)\n",
            "Requirement already satisfied: idna<4,>=2.5 in /usr/local/lib/python3.11/dist-packages (from requests<3,>=2.27->streamlit) (3.10)\n",
            "Requirement already satisfied: urllib3<3,>=1.21.1 in /usr/local/lib/python3.11/dist-packages (from requests<3,>=2.27->streamlit) (2.4.0)\n",
            "Requirement already satisfied: certifi>=2017.4.17 in /usr/local/lib/python3.11/dist-packages (from requests<3,>=2.27->streamlit) (2025.7.14)\n",
            "Requirement already satisfied: smmap<6,>=3.0.1 in /usr/local/lib/python3.11/dist-packages (from gitdb<5,>=4.0.1->gitpython!=3.1.19,<4,>=3.0.7->streamlit) (5.0.2)\n",
            "Requirement already satisfied: MarkupSafe>=2.0 in /usr/local/lib/python3.11/dist-packages (from jinja2->altair<6,>=4.0->streamlit) (3.0.2)\n",
            "Requirement already satisfied: attrs>=22.2.0 in /usr/local/lib/python3.11/dist-packages (from jsonschema>=3.0->altair<6,>=4.0->streamlit) (25.3.0)\n",
            "Requirement already satisfied: jsonschema-specifications>=2023.03.6 in /usr/local/lib/python3.11/dist-packages (from jsonschema>=3.0->altair<6,>=4.0->streamlit) (2025.4.1)\n",
            "Requirement already satisfied: referencing>=0.28.4 in /usr/local/lib/python3.11/dist-packages (from jsonschema>=3.0->altair<6,>=4.0->streamlit) (0.36.2)\n",
            "Requirement already satisfied: rpds-py>=0.7.1 in /usr/local/lib/python3.11/dist-packages (from jsonschema>=3.0->altair<6,>=4.0->streamlit) (0.26.0)\n",
            "Requirement already satisfied: six>=1.5 in /usr/local/lib/python3.11/dist-packages (from python-dateutil>=2.8.2->pandas<3,>=1.4.0->streamlit) (1.17.0)\n",
            "Downloading streamlit-1.47.0-py3-none-any.whl (9.9 MB)\n",
            "\u001b[2K   \u001b[90m━━━━━━━━━━━━━━━━━━━━━━━━━━━━━━━━━━━━━━━━\u001b[0m \u001b[32m9.9/9.9 MB\u001b[0m \u001b[31m80.5 MB/s\u001b[0m eta \u001b[36m0:00:00\u001b[0m\n",
            "\u001b[?25hDownloading pydeck-0.9.1-py2.py3-none-any.whl (6.9 MB)\n",
            "\u001b[2K   \u001b[90m━━━━━━━━━━━━━━━━━━━━━━━━━━━━━━━━━━━━━━━━\u001b[0m \u001b[32m6.9/6.9 MB\u001b[0m \u001b[31m84.9 MB/s\u001b[0m eta \u001b[36m0:00:00\u001b[0m\n",
            "\u001b[?25hDownloading watchdog-6.0.0-py3-none-manylinux2014_x86_64.whl (79 kB)\n",
            "\u001b[2K   \u001b[90m━━━━━━━━━━━━━━━━━━━━━━━━━━━━━━━━━━━━━━━━\u001b[0m \u001b[32m79.1/79.1 kB\u001b[0m \u001b[31m7.6 MB/s\u001b[0m eta \u001b[36m0:00:00\u001b[0m\n",
            "\u001b[?25hInstalling collected packages: watchdog, pydeck, streamlit\n",
            "Successfully installed pydeck-0.9.1 streamlit-1.47.0 watchdog-6.0.0\n"
          ]
        }
      ]
    },
    {
      "cell_type": "code",
      "source": [
        "# example saving\n",
        "import joblib\n",
        "joblib.dump(model, 'model.pkl')\n"
      ],
      "metadata": {
        "colab": {
          "base_uri": "https://localhost:8080/"
        },
        "id": "8Agx-JkEZb9E",
        "outputId": "fbc45cb3-c733-4f6d-e211-6222e75dbd5b"
      },
      "execution_count": 20,
      "outputs": [
        {
          "output_type": "execute_result",
          "data": {
            "text/plain": [
              "['model.pkl']"
            ]
          },
          "metadata": {},
          "execution_count": 20
        }
      ]
    },
    {
      "cell_type": "code",
      "source": [
        "joblib.dump(le_y, 'label_encoder.pkl')\n"
      ],
      "metadata": {
        "colab": {
          "base_uri": "https://localhost:8080/"
        },
        "id": "zA-1znxKZk7Z",
        "outputId": "f2ec297e-e568-4387-a44b-6560c0ca8bcd"
      },
      "execution_count": 21,
      "outputs": [
        {
          "output_type": "execute_result",
          "data": {
            "text/plain": [
              "['label_encoder.pkl']"
            ]
          },
          "metadata": {},
          "execution_count": 21
        }
      ]
    },
    {
      "cell_type": "code",
      "source": [
        "!pip install streamlit pyngrok --quiet\n"
      ],
      "metadata": {
        "id": "0DlCAjxlfjf7"
      },
      "execution_count": 22,
      "outputs": []
    },
    {
      "cell_type": "code",
      "source": [
        "from sklearn.preprocessing import LabelEncoder\n",
        "import pickle\n",
        "\n",
        "# Replace this list with the actual list of follow-up labels used\n",
        "labels = [\"Immediate Evaluation\", \"3 months\", \"6 months\", \"12 months\"]\n",
        "\n",
        "le = LabelEncoder()\n",
        "le.fit(labels)\n",
        "\n",
        "# Save it\n",
        "with open(\"label_encoder.pkl\", \"wb\") as f:\n",
        "    pickle.dump(le, f)\n"
      ],
      "metadata": {
        "id": "dq5Q-lLhvgox"
      },
      "execution_count": 23,
      "outputs": []
    },
    {
      "cell_type": "code",
      "source": [
        "%%writefile app.py\n",
        "import streamlit as st\n",
        "import numpy as np\n",
        "import tensorflow as tf\n",
        "import pickle\n",
        "from sklearn.preprocessing import LabelEncoder, MinMaxScaler\n",
        "import joblib\n",
        "\n",
        "# Load the trained model\n",
        "@st.cache_resource\n",
        "def load_model():\n",
        "  return tf.keras.models.load_model('followup_lstm_model.h5', compile=False)\n",
        "\n",
        "model = load_model()\n",
        "\n",
        "# Load label encoder used during training\n",
        "with open('label_encoder.pkl', 'rb') as file:\n",
        "    le = pickle.load(file)\n",
        "\n",
        "# Load the scaler used for numerical features\n",
        "scaler = joblib.load('scaler.pkl')\n",
        "\n",
        "\n",
        "st.title(\"Follow-Up Interval Predictor\")\n",
        "\n",
        "# Get the expected input shape from the model\n",
        "timesteps = int(model.input_shape[1])\n",
        "features = int(model.input_shape[2])\n",
        "\n",
        "st.write(f\"The model was trained on sequences of length {timesteps}. You can enter data for up to {timesteps} follow-ups.\")\n",
        "\n",
        "# Get the number of follow-ups from the user\n",
        "num_follow_ups = st.number_input(\"Enter the number of follow-ups:\", min_value=1, max_value=timesteps, value=1, step=1)\n",
        "\n",
        "# Collect input for the specified number of follow-ups\n",
        "patient_sequence_data = []\n",
        "for i in range(num_follow_ups):\n",
        "    st.subheader(f\"Follow-Up {i+1}\")\n",
        "    age_group = st.selectbox(f\"Age Group (Follow-Up {i+1})\", ['20-30', '30-40', '40-50', '50-60', '60-70','70-80','80-90'], key=f'age_{i}')\n",
        "    comorbidities = st.number_input(f\"Number of Comorbidities (Follow-Up {i+1})\", min_value=0, max_value=5, step=1, key=f'comorb_{i}')\n",
        "    family_history = st.selectbox(f\"Family History of Cancer (Follow-Up {i+1})\", ['Yes', 'No'], key=f'fam_hist_{i}')\n",
        "    self_history = st.selectbox(f\"Self History of Cancer (Follow-Up {i+1})\", ['Yes', 'No'], key=f'self_hist_{i}')\n",
        "    smoking_pack_years = st.number_input(f\"Smoking Pack Years (Follow-Up {i+1})\", min_value=0.0, max_value=100.0, step=1.0, key=f'smoking_{i}')\n",
        "    nodule_type= st.selectbox(f\"Nodule Type (Follow-Up {i+1})\",['Solid','Part-Solid','Non-Solid'], key=f'nodule_type_{i}')\n",
        "    nodule_size = st.number_input(f\"Nodule Size (mm) (Follow-Up {i+1})\", min_value=0.0, max_value=100.0, step=0.1, key=f'nodule_size_{i}')\n",
        "    lung_rad_score = st.selectbox(f\"Lung-RADS Score (Follow-Up {i+1})\", [2, 3, 4, 5], key=f'lungrads_{i}')\n",
        "\n",
        "    # Scale the numerical inputs\n",
        "    # Reshape input for scaler: scaler expects a 2D array where each row is a sample and each column is a feature.\n",
        "    # We are scaling smoking_pack_years and nodule_size together, so input shape is (1, 2)\n",
        "    scaled_features = scaler.transform([[smoking_pack_years, nodule_size]])\n",
        "    scaled_smoking = scaled_features[0][0]\n",
        "    scaled_nodule_size = scaled_features[0][1]\n",
        "\n",
        "\n",
        "    # Store the features for this follow-up\n",
        "    # Map categorical inputs to numerical as per training encoding\n",
        "    age_map = {'20-30': 0, '30-40': 1, '40-50': 2, '50-60': 3, '60-70': 4,'70-80': 5, '80-90': 6 }\n",
        "    yes_no_map = {'Yes': 1, 'No': 0}\n",
        "    nodule_type_map = {'Solid': 3, 'Part-Solid': 2, 'Non-Solid': 1}\n",
        "\n",
        "\n",
        "    features_list = [\n",
        "        age_map[age_group],\n",
        "        comorbidities,\n",
        "        yes_no_map[family_history],\n",
        "        yes_no_map[self_history],\n",
        "        scaled_smoking,\n",
        "        i + 1, # Follow-up number\n",
        "        nodule_type_map[nodule_type],\n",
        "        scaled_nodule_size,\n",
        "        lung_rad_score\n",
        "    ]\n",
        "    patient_sequence_data.append(features_list)\n",
        "\n",
        "\n",
        "if st.button(\"Predict Follow-Up Interval\"):\n",
        "    # Convert collected data to numpy array\n",
        "    input_sequence = np.array(patient_sequence_data, dtype=np.float32)\n",
        "\n",
        "    # Pad or truncate the sequence to match the model's timesteps\n",
        "    if input_sequence.shape[0] < timesteps:\n",
        "        num_padding_rows = timesteps - input_sequence.shape[0]\n",
        "        #padding_shape = (num_padding_rows, features)\n",
        "        #padding = np.zeros(padding_shape, dtype=np.float32)\n",
        "        padding_row = [0] * features\n",
        "        padding = np.array([padding_row] * num_padding_rows, dtype=np.float32)\n",
        "        input_data = np.concatenate((padding,input_sequence), axis=0)\n",
        "    elif input_sequence.shape[0] > timesteps:\n",
        "        input_data = input_sequence[-timesteps:, :]\n",
        "    else:\n",
        "        input_data = input_sequence\n",
        "\n",
        "\n",
        "    # Reshape for prediction: (1, timesteps, features)\n",
        "    input_data = input_data.reshape((1, timesteps, features))\n",
        "\n",
        "    # Assuming class_map is already defined from previous cells or define it here\n",
        "    # class_map = {0: \"12 months\", 1: \"3 months\", 2: \"6 months\", 3: \"immediate evaluation\"}\n",
        "    # Using the loaded label encoder to get the class names\n",
        "    class_map = {i: label for i, label in enumerate(le.classes_)}\n",
        "\n",
        "\n",
        "    # Predict class probabilities\n",
        "    prediction = model.predict(input_data)\n",
        "    predicted_class = np.argmax(prediction)\n",
        "\n",
        "    st.success(f\"🩺 Recommended Follow-Up Interval: *{class_map[predicted_class]}*\")"
      ],
      "metadata": {
        "colab": {
          "base_uri": "https://localhost:8080/"
        },
        "id": "sNnhONuSZmUu",
        "outputId": "8c2ae11e-4bfe-49c6-cff4-83c70dda0df4"
      },
      "execution_count": 134,
      "outputs": [
        {
          "output_type": "stream",
          "name": "stdout",
          "text": [
            "Overwriting app.py\n"
          ]
        }
      ]
    },
    {
      "cell_type": "code",
      "source": [
        "!ngrok config add-authtoken 308VpnoOCO5xxbiQbV27aS9sRVb_6n46jDAS3Nzupn4QjJsYL"
      ],
      "metadata": {
        "colab": {
          "base_uri": "https://localhost:8080/"
        },
        "id": "O2mLZDmaftsl",
        "outputId": "4da62174-6eca-441a-b439-11b51aa85121"
      },
      "execution_count": 135,
      "outputs": [
        {
          "output_type": "stream",
          "name": "stdout",
          "text": [
            "Authtoken saved to configuration file: /root/.config/ngrok/ngrok.yml\n"
          ]
        }
      ]
    },
    {
      "cell_type": "code",
      "source": [
        "from pyngrok import ngrok\n",
        "ngrok.kill()"
      ],
      "metadata": {
        "id": "8s17SbJXm1QT"
      },
      "execution_count": 136,
      "outputs": []
    },
    {
      "cell_type": "code",
      "source": [
        "import os\n",
        "os.system(\"streamlit run app.py --server.port 8555 &\")"
      ],
      "metadata": {
        "colab": {
          "base_uri": "https://localhost:8080/"
        },
        "id": "a75cCdeym7uP",
        "outputId": "a3e3bc86-afbb-4cb5-f53c-d2a088794a9b"
      },
      "execution_count": 137,
      "outputs": [
        {
          "output_type": "execute_result",
          "data": {
            "text/plain": [
              "0"
            ]
          },
          "metadata": {},
          "execution_count": 137
        }
      ]
    },
    {
      "cell_type": "code",
      "source": [
        "public_url = ngrok.connect(8555)\n",
        "print(f\"🔗 Your Streamlit app is live at: {public_url}\")"
      ],
      "metadata": {
        "colab": {
          "base_uri": "https://localhost:8080/"
        },
        "id": "MC42CbCXnA5-",
        "outputId": "20a143d2-cb69-486f-b84f-2acb49c65f5a"
      },
      "execution_count": 139,
      "outputs": [
        {
          "output_type": "stream",
          "name": "stdout",
          "text": [
            "🔗 Your Streamlit app is live at: NgrokTunnel: \"https://db9314f12572.ngrok-free.app\" -> \"http://localhost:8555\"\n"
          ]
        }
      ]
    },
    {
      "cell_type": "code",
      "source": [],
      "metadata": {
        "id": "eMa-FHFNPnEb"
      },
      "execution_count": null,
      "outputs": []
    },
    {
      "cell_type": "markdown",
      "source": [],
      "metadata": {
        "id": "24GQRkraOLaK"
      }
    },
    {
      "cell_type": "markdown",
      "source": [],
      "metadata": {
        "id": "VXwstRv1ipH5"
      }
    },
    {
      "cell_type": "markdown",
      "source": [],
      "metadata": {
        "id": "vdmxmW1txGDT"
      }
    },
    {
      "cell_type": "code",
      "source": [
        "from tensorflow.keras.models import load_model\n",
        "\n",
        "model = load_model(\"followup_lstm_model.h5\")\n",
        "model.summary()\n",
        "\n",
        "print(\"Expected model input shape:\", model.input_shape)\n",
        "\n"
      ],
      "metadata": {
        "id": "StajIjcBo9Ff"
      },
      "execution_count": null,
      "outputs": []
    },
    {
      "cell_type": "code",
      "source": [
        "!ls -l /content\n"
      ],
      "metadata": {
        "id": "NBR8YxnMu5AG"
      },
      "execution_count": null,
      "outputs": []
    },
    {
      "cell_type": "code",
      "source": [
        "df"
      ],
      "metadata": {
        "id": "VBIAMiY7qu_o"
      },
      "execution_count": null,
      "outputs": []
    },
    {
      "cell_type": "code",
      "source": [],
      "metadata": {
        "id": "1j2iR5I48TO6"
      },
      "execution_count": null,
      "outputs": []
    },
    {
      "cell_type": "code",
      "source": [],
      "metadata": {
        "id": "ZHJhskrv8TLj"
      },
      "execution_count": null,
      "outputs": []
    },
    {
      "cell_type": "code",
      "source": [
        "\n",
        "patient_sequence_data = [\n",
        "    [2, 1, 0, 0, 0.47591, 1, 1, 0.466666, 3], # Follow-up 1\n",
        "    #[2, 1, 0, 0, 0.450000, 2, 1, 0.266666, 2], # Follow-up 2\n",
        "    #[2, 1, 0, 0, 0.450141, 3, 2, 0.426523, 4], # Follow-up 3\n",
        "    #[2, 1, 0, 1, 0.190141, 4, 2, 0.180000, 2], # Follow-up 4\n",
        "   # [2, 0, 0, 0, 0.190141, 5, 2, 0.787700, 5]  # Follow-up 5\n",
        "]\n",
        "\n",
        "\n",
        "timesteps = model.input_shape[1]\n",
        "features = model.input_shape[2]\n",
        "\n",
        "if len(patient_sequence_data) > timesteps:\n",
        "    # Trim the sequence if it's longer than the model's timesteps\n",
        "    input_data = np.array(patient_sequence_data[-timesteps:], dtype=np.float32)\n",
        "elif len(patient_sequence_data) < timesteps:\n",
        "    # Pad the sequence if it's shorter than the model's timesteps\n",
        "    padding_shape = (timesteps - len(patient_sequence_data), features)\n",
        "    padding = np.zeros(padding_shape, dtype=np.float32) # or use a masking layer in the model\n",
        "    input_data = np.concatenate((padding, np.array(patient_sequence_data, dtype=np.float32)), axis=0)\n",
        "else:\n",
        "    input_data = np.array(patient_sequence_data, dtype=np.float32)\n",
        "\n",
        "\n",
        "input_data = input_data.reshape((1, timesteps, features))\n",
        "\n",
        "# Assuming class_map is already defined from previous cells\n",
        "class_map = {0: \"12 months\", 1: \"3 months\", 2: \"6 months\", 3: \"immediate evaluation\"}\n",
        "\n",
        "prediction = model.predict(input_data)\n",
        "predicted_class = np.argmax(prediction)\n",
        "\n",
        "print(\"Predicted Probabilities:\", prediction)\n",
        "print(\"Predicted Follow-Up Interval:\", class_map[predicted_class])"
      ],
      "metadata": {
        "colab": {
          "base_uri": "https://localhost:8080/"
        },
        "id": "-bVYiDS0RAmG",
        "outputId": "78e6c2ed-9068-4db8-bdcf-6793b5207666"
      },
      "execution_count": 112,
      "outputs": [
        {
          "output_type": "stream",
          "name": "stdout",
          "text": [
            "\u001b[1m1/1\u001b[0m \u001b[32m━━━━━━━━━━━━━━━━━━━━\u001b[0m\u001b[37m\u001b[0m \u001b[1m0s\u001b[0m 64ms/step\n",
            "Predicted Probabilities: [[0.04677977 0.06865057 0.02394823 0.86062145]]\n",
            "Predicted Follow-Up Interval: immediate evaluation\n"
          ]
        }
      ]
    },
    {
      "cell_type": "code",
      "source": [],
      "metadata": {
        "id": "OSFowJ1_NPUf"
      },
      "execution_count": null,
      "outputs": []
    },
    {
      "cell_type": "code",
      "source": [
        "\n",
        "patient_sequence_data = [\n",
        "    #[4, 1, 0, 0, 0.475911, 1, 1, 0.156666, 2], # Follow-up 1\n",
        "    #[4, 1, 0, 0, 0.450000, 2, 2, 0.266666, 3], # Follow-up 2\n",
        "    #[4, 1, 0, 1, 0.450141, 3, 2, 0.126523, 2], # Follow-up 3\n",
        "    #[4, 1, 0, 1, 0.190141, 4, 2, 0.100000, 2], # Follow-up 4\n",
        "   # [2, 0, 0, 0, 0.190141, 5, 2, 0.787700, 5]  # Follow-up 5\n",
        "]\n",
        "\n",
        "\n",
        "# Ensure the sequence length matches the model's expected input shape (timesteps)\n",
        "timesteps = model.input_shape[1]\n",
        "features = model.input_shape[2]\n",
        "\n",
        "if len(patient_sequence_data) > timesteps:\n",
        "    # Trim the sequence if it's longer than the model's timesteps\n",
        "    input_data = np.array(patient_sequence_data[-timesteps:], dtype=np.float32)\n",
        "elif len(patient_sequence_data) < timesteps:\n",
        "    # Pad the sequence if it's shorter than the model's timesteps\n",
        "    padding_shape = (timesteps - len(patient_sequence_data), features)\n",
        "    padding = np.zeros(padding_shape, dtype=np.float32) # or use a masking layer in the model\n",
        "    input_data = np.concatenate((padding, np.array(patient_sequence_data, dtype=np.float32)), axis=0)\n",
        "else:\n",
        "    input_data = np.array(patient_sequence_data, dtype=np.float32)\n",
        "\n",
        "\n",
        "input_data = input_data.reshape((1, timesteps, features))\n",
        "\n",
        "# Assuming class_map is already defined from previous cells\n",
        "class_map = {0: \"12 months\", 1: \"3 months\", 2: \"6 months\", 3: \"immediate evaluation\"}\n",
        "\n",
        "\n",
        "prediction = model.predict(input_data)\n",
        "predicted_class = np.argmax(prediction)\n",
        "\n",
        "print(\"Predicted Probabilities:\", prediction)\n",
        "print(\"Predicted Follow-Up Interval:\", class_map[predicted_class])"
      ],
      "metadata": {
        "colab": {
          "base_uri": "https://localhost:8080/"
        },
        "outputId": "7b3808fa-32e3-401d-f1a5-e11d322969f4",
        "id": "tS6JFBYeNPsB"
      },
      "execution_count": 111,
      "outputs": [
        {
          "output_type": "stream",
          "name": "stdout",
          "text": [
            "\u001b[1m1/1\u001b[0m \u001b[32m━━━━━━━━━━━━━━━━━━━━\u001b[0m\u001b[37m\u001b[0m \u001b[1m0s\u001b[0m 51ms/step\n",
            "Predicted Probabilities: [[6.1116309e-04 2.2969950e-02 1.1377442e-03 9.7528118e-01]]\n",
            "Predicted Follow-Up Interval: immediate evaluation\n"
          ]
        }
      ]
    },
    {
      "cell_type": "code",
      "source": [
        "scaler = MinMaxScaler()\n",
        "max = 100;\n",
        "min = 0;\n",
        "scaled = 10\n",
        "\n"
      ],
      "metadata": {
        "id": "XBXgGlDCRAW_"
      },
      "execution_count": null,
      "outputs": []
    },
    {
      "cell_type": "code",
      "source": [
        "def load_model():\n",
        "  return tf.keras.models.load_model('followup_lstm_model.h5', compile=False)\n",
        "\n",
        "model = load_model()\n",
        "\n",
        "# Load label encoder used during training\n",
        "with open('label_encoder.pkl', 'rb') as file:\n",
        "    le = pickle.load(file)\n",
        "\n",
        "# Load the scaler used for numerical features\n",
        "scaler = joblib.load('scaler.pkl')\n",
        "\n",
        "\n",
        "st.title(\"Lung Follow-Up Interval Predictor\")\n",
        "\n",
        "# Get the expected input shape from the model\n",
        "timesteps = int(model.input_shape[1])\n",
        "features = int(model.input_shape[2])\n",
        "timesteps\n",
        "\n"
      ],
      "metadata": {
        "colab": {
          "base_uri": "https://localhost:8080/"
        },
        "id": "xysu5VPIXgUN",
        "outputId": "67255a46-4de3-445e-b68d-78bb4aafc256"
      },
      "execution_count": 103,
      "outputs": [
        {
          "output_type": "stream",
          "name": "stderr",
          "text": [
            "2025-07-22 09:03:28.526 Thread 'MainThread': missing ScriptRunContext! This warning can be ignored when running in bare mode.\n",
            "2025-07-22 09:03:28.529 Thread 'MainThread': missing ScriptRunContext! This warning can be ignored when running in bare mode.\n",
            "2025-07-22 09:03:28.531 Thread 'MainThread': missing ScriptRunContext! This warning can be ignored when running in bare mode.\n"
          ]
        },
        {
          "output_type": "execute_result",
          "data": {
            "text/plain": [
              "5"
            ]
          },
          "metadata": {},
          "execution_count": 103
        }
      ]
    }
  ]
}